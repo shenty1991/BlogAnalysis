{
 "cells": [
  {
   "cell_type": "code",
   "execution_count": 1,
   "metadata": {},
   "outputs": [],
   "source": [
    "import pandas as pd\n",
    "import matplotlib.pyplot as plt\n",
    "import re\n",
    "import nltk\n",
    "import seaborn as sns\n",
    "import numpy as np"
   ]
  },
  {
   "cell_type": "code",
   "execution_count": 2,
   "metadata": {},
   "outputs": [
    {
     "name": "stdout",
     "output_type": "stream",
     "text": [
      "<class 'pandas.core.frame.DataFrame'>\n",
      "RangeIndex: 681284 entries, 0 to 681283\n",
      "Data columns (total 7 columns):\n",
      "id        681284 non-null int64\n",
      "gender    681284 non-null object\n",
      "age       681284 non-null int64\n",
      "topic     681284 non-null object\n",
      "sign      681284 non-null object\n",
      "date      681284 non-null object\n",
      "text      681284 non-null object\n",
      "dtypes: int64(2), object(5)\n",
      "memory usage: 36.4+ MB\n"
     ]
    },
    {
     "data": {
      "text/html": [
       "<div>\n",
       "<style scoped>\n",
       "    .dataframe tbody tr th:only-of-type {\n",
       "        vertical-align: middle;\n",
       "    }\n",
       "\n",
       "    .dataframe tbody tr th {\n",
       "        vertical-align: top;\n",
       "    }\n",
       "\n",
       "    .dataframe thead th {\n",
       "        text-align: right;\n",
       "    }\n",
       "</style>\n",
       "<table border=\"1\" class=\"dataframe\">\n",
       "  <thead>\n",
       "    <tr style=\"text-align: right;\">\n",
       "      <th></th>\n",
       "      <th>id</th>\n",
       "      <th>gender</th>\n",
       "      <th>age</th>\n",
       "      <th>topic</th>\n",
       "      <th>sign</th>\n",
       "      <th>date</th>\n",
       "      <th>text</th>\n",
       "    </tr>\n",
       "  </thead>\n",
       "  <tbody>\n",
       "    <tr>\n",
       "      <th>0</th>\n",
       "      <td>2059027</td>\n",
       "      <td>male</td>\n",
       "      <td>15</td>\n",
       "      <td>Student</td>\n",
       "      <td>Leo</td>\n",
       "      <td>14,May,2004</td>\n",
       "      <td>Info has been found (+/- 100 pages,...</td>\n",
       "    </tr>\n",
       "    <tr>\n",
       "      <th>1</th>\n",
       "      <td>2059027</td>\n",
       "      <td>male</td>\n",
       "      <td>15</td>\n",
       "      <td>Student</td>\n",
       "      <td>Leo</td>\n",
       "      <td>13,May,2004</td>\n",
       "      <td>These are the team members:   Drewe...</td>\n",
       "    </tr>\n",
       "    <tr>\n",
       "      <th>2</th>\n",
       "      <td>2059027</td>\n",
       "      <td>male</td>\n",
       "      <td>15</td>\n",
       "      <td>Student</td>\n",
       "      <td>Leo</td>\n",
       "      <td>12,May,2004</td>\n",
       "      <td>In het kader van kernfusie op aarde...</td>\n",
       "    </tr>\n",
       "    <tr>\n",
       "      <th>3</th>\n",
       "      <td>2059027</td>\n",
       "      <td>male</td>\n",
       "      <td>15</td>\n",
       "      <td>Student</td>\n",
       "      <td>Leo</td>\n",
       "      <td>12,May,2004</td>\n",
       "      <td>testing!!!  testing!!!</td>\n",
       "    </tr>\n",
       "    <tr>\n",
       "      <th>4</th>\n",
       "      <td>3581210</td>\n",
       "      <td>male</td>\n",
       "      <td>33</td>\n",
       "      <td>InvestmentBanking</td>\n",
       "      <td>Aquarius</td>\n",
       "      <td>11,June,2004</td>\n",
       "      <td>Thanks to Yahoo!'s Toolbar I can ...</td>\n",
       "    </tr>\n",
       "  </tbody>\n",
       "</table>\n",
       "</div>"
      ],
      "text/plain": [
       "        id gender  age              topic      sign          date  \\\n",
       "0  2059027   male   15            Student       Leo   14,May,2004   \n",
       "1  2059027   male   15            Student       Leo   13,May,2004   \n",
       "2  2059027   male   15            Student       Leo   12,May,2004   \n",
       "3  2059027   male   15            Student       Leo   12,May,2004   \n",
       "4  3581210   male   33  InvestmentBanking  Aquarius  11,June,2004   \n",
       "\n",
       "                                                text  \n",
       "0             Info has been found (+/- 100 pages,...  \n",
       "1             These are the team members:   Drewe...  \n",
       "2             In het kader van kernfusie op aarde...  \n",
       "3                   testing!!!  testing!!!            \n",
       "4               Thanks to Yahoo!'s Toolbar I can ...  "
      ]
     },
     "execution_count": 2,
     "metadata": {},
     "output_type": "execute_result"
    }
   ],
   "source": [
    "df=pd.read_csv(\"blogtext.csv\")\n",
    "df.info()\n",
    "df.head()"
   ]
  },
  {
   "cell_type": "markdown",
   "metadata": {},
   "source": [
    "There is no null entries in the dataset."
   ]
  },
  {
   "cell_type": "code",
   "execution_count": 3,
   "metadata": {},
   "outputs": [],
   "source": [
    "#create the dataframe for authors\n",
    "'''\n",
    "ids=df['id'].unique()\n",
    "df_authors=pd.DataFrame(index=ids,columns=['gender','age','sign'])\n",
    "for id in ids:\n",
    "    df_authors.at[id,'gender']=df[df['id']==id]['gender'].values[0]\n",
    "    df_authors.at[id,'age']=df[df['id']==id]['age'].values[0]\n",
    "    df_authors.at[id,'sign']=df[df['id']==id]['sign'].values[0]\n",
    "df_authors.info()\n",
    "df_authors.head()\n",
    "df_authors.to_csv('authors.csv')\n",
    "'''\n",
    "df_authors=pd.read_csv('authors.csv')\n",
    "                                           "
   ]
  },
  {
   "cell_type": "code",
   "execution_count": 4,
   "metadata": {},
   "outputs": [
    {
     "data": {
      "text/plain": [
       "female    9660\n",
       "male      9660\n",
       "Name: gender, dtype: int64"
      ]
     },
     "execution_count": 4,
     "metadata": {},
     "output_type": "execute_result"
    }
   ],
   "source": [
    "df_authors['gender'].value_counts()"
   ]
  },
  {
   "cell_type": "markdown",
   "metadata": {},
   "source": [
    "It is shown that the amount of male authors and female authors are the same in the dataset"
   ]
  },
  {
   "cell_type": "code",
   "execution_count": 5,
   "metadata": {},
   "outputs": [
    {
     "data": {
      "text/plain": [
       "array([[<matplotlib.axes._subplots.AxesSubplot object at 0x7f9c1c728828>]],\n",
       "      dtype=object)"
      ]
     },
     "execution_count": 5,
     "metadata": {},
     "output_type": "execute_result"
    },
    {
     "data": {
      "image/png": "[encoded data removed]",
      "text/plain": [
       "<Figure size 432x288 with 1 Axes>"
      ]
     },
     "metadata": {
      "needs_background": "light"
     },
     "output_type": "display_data"
    }
   ],
   "source": [
    "#age distribution of authors\n",
    "df_authors['age']=df_authors['age'].astype('int')\n",
    "df_authors.hist(column='age')"
   ]
  },
  {
   "cell_type": "markdown",
   "metadata": {},
   "source": [
    "The author distribution suggests that there are two groups of frequent blog writers, teenagers around 15 and young people around 25."
   ]
  },
  {
   "cell_type": "code",
   "execution_count": 6,
   "metadata": {},
   "outputs": [
    {
     "data": {
      "text/plain": [
       "indUnk                     251015\n",
       "Student                    153903\n",
       "Technology                  42055\n",
       "Arts                        32449\n",
       "Education                   29633\n",
       "Communications-Media        20140\n",
       "Internet                    16006\n",
       "Non-Profit                  14700\n",
       "Engineering                 11653\n",
       "Law                          9040\n",
       "Publishing                   7753\n",
       "Science                      7269\n",
       "Government                   6907\n",
       "Consulting                   5862\n",
       "Religion                     5235\n",
       "Fashion                      4851\n",
       "Marketing                    4769\n",
       "Advertising                  4676\n",
       "BusinessServices             4500\n",
       "Banking                      4049\n",
       "Chemicals                    3928\n",
       "Telecommunications           3891\n",
       "Accounting                   3832\n",
       "Military                     3128\n",
       "Museums-Libraries            3096\n",
       "Sports-Recreation            3038\n",
       "HumanResources               3010\n",
       "RealEstate                   2870\n",
       "Transportation               2326\n",
       "Manufacturing                2272\n",
       "Biotech                      2234\n",
       "Tourism                      1942\n",
       "LawEnforcement-Security      1878\n",
       "Architecture                 1638\n",
       "InvestmentBanking            1292\n",
       "Automotive                   1244\n",
       "Agriculture                  1235\n",
       "Construction                 1093\n",
       "Environment                   592\n",
       "Maritime                      280\n",
       "Name: topic, dtype: int64"
      ]
     },
     "execution_count": 6,
     "metadata": {},
     "output_type": "execute_result"
    }
   ],
   "source": [
    "df['topic'].value_counts()"
   ]
  },
  {
   "cell_type": "code",
   "execution_count": 7,
   "metadata": {},
   "outputs": [
    {
     "data": {
      "text/plain": [
       "Virgo          1783\n",
       "Cancer         1722\n",
       "Libra          1700\n",
       "Taurus         1645\n",
       "Scorpio        1631\n",
       "Leo            1619\n",
       "Aries          1597\n",
       "Gemini         1595\n",
       "Pisces         1580\n",
       "Sagittarius    1549\n",
       "Aquarius       1474\n",
       "Capricorn      1425\n",
       "Name: sign, dtype: int64"
      ]
     },
     "execution_count": 7,
     "metadata": {},
     "output_type": "execute_result"
    }
   ],
   "source": [
    "df_authors['sign'].value_counts()"
   ]
  },
  {
   "cell_type": "code",
   "execution_count": 8,
   "metadata": {},
   "outputs": [],
   "source": [
    "df=df[['topic','text']]"
   ]
  },
  {
   "cell_type": "code",
   "execution_count": 9,
   "metadata": {},
   "outputs": [
    {
     "data": {
      "text/html": [
       "<div>\n",
       "<style scoped>\n",
       "    .dataframe tbody tr th:only-of-type {\n",
       "        vertical-align: middle;\n",
       "    }\n",
       "\n",
       "    .dataframe tbody tr th {\n",
       "        vertical-align: top;\n",
       "    }\n",
       "\n",
       "    .dataframe thead th {\n",
       "        text-align: right;\n",
       "    }\n",
       "</style>\n",
       "<table border=\"1\" class=\"dataframe\">\n",
       "  <thead>\n",
       "    <tr style=\"text-align: right;\">\n",
       "      <th></th>\n",
       "      <th>topic</th>\n",
       "      <th>text</th>\n",
       "      <th>word count</th>\n",
       "    </tr>\n",
       "  </thead>\n",
       "  <tbody>\n",
       "    <tr>\n",
       "      <th>0</th>\n",
       "      <td>Student</td>\n",
       "      <td>Info has been found (+/- 100 pages,...</td>\n",
       "      <td>28</td>\n",
       "    </tr>\n",
       "    <tr>\n",
       "      <th>1</th>\n",
       "      <td>Student</td>\n",
       "      <td>These are the team members:   Drewe...</td>\n",
       "      <td>20</td>\n",
       "    </tr>\n",
       "    <tr>\n",
       "      <th>2</th>\n",
       "      <td>Student</td>\n",
       "      <td>In het kader van kernfusie op aarde...</td>\n",
       "      <td>4326</td>\n",
       "    </tr>\n",
       "    <tr>\n",
       "      <th>3</th>\n",
       "      <td>Student</td>\n",
       "      <td>testing!!!  testing!!!</td>\n",
       "      <td>2</td>\n",
       "    </tr>\n",
       "    <tr>\n",
       "      <th>4</th>\n",
       "      <td>InvestmentBanking</td>\n",
       "      <td>Thanks to Yahoo!'s Toolbar I can ...</td>\n",
       "      <td>65</td>\n",
       "    </tr>\n",
       "  </tbody>\n",
       "</table>\n",
       "</div>"
      ],
      "text/plain": [
       "               topic                                               text  \\\n",
       "0            Student             Info has been found (+/- 100 pages,...   \n",
       "1            Student             These are the team members:   Drewe...   \n",
       "2            Student             In het kader van kernfusie op aarde...   \n",
       "3            Student                   testing!!!  testing!!!             \n",
       "4  InvestmentBanking               Thanks to Yahoo!'s Toolbar I can ...   \n",
       "\n",
       "   word count  \n",
       "0          28  \n",
       "1          20  \n",
       "2        4326  \n",
       "3           2  \n",
       "4          65  "
      ]
     },
     "execution_count": 9,
     "metadata": {},
     "output_type": "execute_result"
    }
   ],
   "source": [
    "#word counting for each text\n",
    "def CountWord(text):\n",
    "    return len(text.split())\n",
    "\n",
    "df['word count']=df['text'].apply(CountWord)\n",
    "df.head()\n"
   ]
  },
  {
   "cell_type": "code",
   "execution_count": 10,
   "metadata": {},
   "outputs": [
    {
     "data": {
      "text/html": [
       "<div>\n",
       "<style scoped>\n",
       "    .dataframe tbody tr th:only-of-type {\n",
       "        vertical-align: middle;\n",
       "    }\n",
       "\n",
       "    .dataframe tbody tr th {\n",
       "        vertical-align: top;\n",
       "    }\n",
       "\n",
       "    .dataframe thead th {\n",
       "        text-align: right;\n",
       "    }\n",
       "</style>\n",
       "<table border=\"1\" class=\"dataframe\">\n",
       "  <thead>\n",
       "    <tr style=\"text-align: right;\">\n",
       "      <th></th>\n",
       "      <th>topic</th>\n",
       "      <th>text</th>\n",
       "      <th>word count</th>\n",
       "    </tr>\n",
       "  </thead>\n",
       "  <tbody>\n",
       "    <tr>\n",
       "      <th>529872</th>\n",
       "      <td>indUnk</td>\n",
       "      <td>Excerpts from the HRW report:  [prologu...</td>\n",
       "      <td>131169</td>\n",
       "    </tr>\n",
       "    <tr>\n",
       "      <th>302666</th>\n",
       "      <td>Education</td>\n",
       "      <td>It happened that among those ...</td>\n",
       "      <td>115370</td>\n",
       "    </tr>\n",
       "    <tr>\n",
       "      <th>658665</th>\n",
       "      <td>Student</td>\n",
       "      <td>Prolouge to a Mack part I - 12/8/2001  ...</td>\n",
       "      <td>71212</td>\n",
       "    </tr>\n",
       "    <tr>\n",
       "      <th>31751</th>\n",
       "      <td>indUnk</td>\n",
       "      <td>Tuesday, October 28, 2003  So...Andrew ...</td>\n",
       "      <td>56045</td>\n",
       "    </tr>\n",
       "    <tr>\n",
       "      <th>384759</th>\n",
       "      <td>Communications-Media</td>\n",
       "      <td>Fear And Loathing In Las Vegas  A...</td>\n",
       "      <td>55340</td>\n",
       "    </tr>\n",
       "  </tbody>\n",
       "</table>\n",
       "</div>"
      ],
      "text/plain": [
       "                       topic  \\\n",
       "529872                indUnk   \n",
       "302666             Education   \n",
       "658665               Student   \n",
       "31751                 indUnk   \n",
       "384759  Communications-Media   \n",
       "\n",
       "                                                     text  word count  \n",
       "529872         Excerpts from the HRW report:  [prologu...      131169  \n",
       "302666                   It happened that among those ...      115370  \n",
       "658665         Prolouge to a Mack part I - 12/8/2001  ...       71212  \n",
       "31751          Tuesday, October 28, 2003  So...Andrew ...       56045  \n",
       "384759               Fear And Loathing In Las Vegas  A...       55340  "
      ]
     },
     "execution_count": 10,
     "metadata": {},
     "output_type": "execute_result"
    }
   ],
   "source": [
    "df.sort_values('word count',ascending=False).head()"
   ]
  },
  {
   "cell_type": "code",
   "execution_count": 15,
   "metadata": {},
   "outputs": [],
   "source": [
    "def CountLevel(x):\n",
    "    if x==0:\n",
    "        return 0\n",
    "    return int(np.log10(x))+1\n",
    "\n",
    "df['word count level']=df['word count'].apply(CountLevel)"
   ]
  },
  {
   "cell_type": "code",
   "execution_count": 16,
   "metadata": {},
   "outputs": [
    {
     "data": {
      "text/plain": [
       "3    351568\n",
       "2    261506\n",
       "1     52575\n",
       "4     12451\n",
       "0      3119\n",
       "5        63\n",
       "6         2\n",
       "Name: word count level, dtype: int64"
      ]
     },
     "execution_count": 16,
     "metadata": {},
     "output_type": "execute_result"
    }
   ],
   "source": [
    "df['word count level'].value_counts()"
   ]
  },
  {
   "cell_type": "markdown",
   "metadata": {},
   "source": [
    "There are 3119 blogs of 0 word, 52575 blogs of 1 to 9 words, 261506 blogs of 10 to 99 words, 351568 blogs of 100 to 999 words,12451 blogs of 1000 to 9999 words, 63 blogs of 10000~99999 words,6 blogs with 100000 to 999999 words"
   ]
  },
  {
   "cell_type": "markdown",
   "metadata": {},
   "source": [
    "Blogs with too less words may not be very good samples for our model, we will only keep models that have at least 100 words, that is the 53.44% of the orignal blogs."
   ]
  },
  {
   "cell_type": "code",
   "execution_count": 20,
   "metadata": {},
   "outputs": [],
   "source": [
    "df=df[df['word count level']>=3][['topic','text']"
   ]
  },
  {
   "cell_type": "code",
   "execution_count": 22,
   "metadata": {},
   "outputs": [
    {
     "data": {
      "text/plain": [
       "indUnk                     132012\n",
       "Student                     84522\n",
       "Technology                  19411\n",
       "Education                   17613\n",
       "Arts                        17528\n",
       "Communications-Media        10600\n",
       "Non-Profit                   7627\n",
       "Internet                     7421\n",
       "Engineering                  6362\n",
       "Publishing                   5067\n",
       "Law                          4968\n",
       "Science                      3931\n",
       "Government                   3878\n",
       "Religion                     3405\n",
       "Consulting                   3215\n",
       "BusinessServices             2693\n",
       "Advertising                  2655\n",
       "Marketing                    2574\n",
       "Fashion                      2569\n",
       "Accounting                   2389\n",
       "Telecommunications           2000\n",
       "Sports-Recreation            1864\n",
       "Military                     1825\n",
       "RealEstate                   1824\n",
       "Banking                      1784\n",
       "Museums-Libraries            1710\n",
       "HumanResources               1470\n",
       "Manufacturing                1377\n",
       "Chemicals                    1301\n",
       "Tourism                      1232\n",
       "Transportation               1219\n",
       "Biotech                      1090\n",
       "LawEnforcement-Security      1024\n",
       "InvestmentBanking             787\n",
       "Architecture                  748\n",
       "Automotive                    692\n",
       "Agriculture                   657\n",
       "Construction                  544\n",
       "Environment                   325\n",
       "Maritime                      171\n",
       "Name: topic, dtype: int64"
      ]
     },
     "execution_count": 22,
     "metadata": {},
     "output_type": "execute_result"
    }
   ],
   "source": [
    "df['topic'].value_counts()"
   ]
  },
  {
   "cell_type": "code",
   "execution_count": 23,
   "metadata": {},
   "outputs": [],
   "source": [
    "#remove unwanted text\n",
    "def CleanText(text):\n",
    "    return re.sub(r'[^A-Za-z]+',' ',text).lower().strip()\n",
    "df['cleaned_text']=df['text'].apply(CleanText)"
   ]
  },
  {
   "cell_type": "code",
   "execution_count": 36,
   "metadata": {},
   "outputs": [
    {
     "name": "stdout",
     "output_type": "stream",
     "text": [
      "Orginal Text Sample:\n",
      "\n",
      "             I had an interesting conversation with my Dad this morning.  We were talking about wher\n",
      "\n",
      "\n",
      "Cleaned Text Sample:\n",
      "i had an interesting conversation with my dad this morning we were talking about where koreans put t\n"
     ]
    }
   ],
   "source": [
    "print(\"Orginal Text Sample:\\n\")\n",
    "print(df['text'].values[1][:100]+'\\n\\n')\n",
    "\n",
    "print(\"Cleaned Text Sample:\")\n",
    "print(df['cleaned_text'].values[1][:100])"
   ]
  },
  {
   "cell_type": "code",
   "execution_count": 38,
   "metadata": {},
   "outputs": [],
   "source": [
    "#remove all stop words from English, \n",
    "#these are words that will not affect the NLP process to understand the meanings\n",
    "from nltk.corpus import stopwords\n",
    "stopwords=set(stopwords.words('english'))\n",
    "\n",
    "df['cleaned_text']=df['cleaned_text'].apply(lambda x: \n",
    "    ' '.join([words for words in x.split() if words not in stopwords]))\n",
    "\n"
   ]
  },
  {
   "cell_type": "code",
   "execution_count": 43,
   "metadata": {},
   "outputs": [
    {
     "name": "stdout",
     "output_type": "stream",
     "text": [
      "{'because', 'm', 'off', 'doesn', 'me', 'after', 'just', \"needn't\", 'having', \"couldn't\", 'those', \"hadn't\", 'or', \"shouldn't\", 'that', 'each', 'most', 'by', 'i', 'above', 'herself', 'these', 'any', \"hasn't\", 'her', 'who', 'shouldn', 'haven', 'don', 'against', 'own', 'further', 'he', \"you've\", \"won't\", 'here', \"don't\", 'them', 'wasn', 'on', \"that'll\", 'same', 'whom', 'have', 'out', 'itself', 'to', 'ours', 'him', 'so', 'y', 'before', 'why', 'will', \"should've\", 'should', 'from', 'does', 'how', 'you', 'this', 'our', 'as', 'under', \"shan't\", 'was', 'until', 'more', 'll', 'your', \"isn't\", 'very', \"you'd\", 'mustn', 'been', 'while', 'now', 'when', 'once', 'for', 'down', 'their', 'all', 'during', 'of', \"aren't\", 'yourselves', 'over', \"doesn't\", 'weren', 'into', 'my', 'themselves', 'which', 'o', 'ourselves', 'nor', 'we', 'mightn', 'again', \"mustn't\", 'few', 'aren', \"didn't\", 'hadn', 'yourself', 'they', 'she', 'ma', 'not', 'myself', 'himself', 'being', 'shan', 'such', 'yours', 's', 'only', 't', 'isn', 'a', 'hasn', 're', \"wasn't\", 'between', 'had', \"wouldn't\", 'up', 'did', 'doing', 'below', 'with', 'than', \"haven't\", \"she's\", 'what', 'there', 'at', 'theirs', \"you're\", 'can', 'didn', \"it's\", 'where', 've', 'do', 'the', \"weren't\", 'd', 'it', 'about', 'ain', 'is', \"you'll\", 'needn', 'won', 'hers', 'both', 'in', \"mightn't\", 'has', 'its', 'through', 'couldn', 'some', 'too', 'then', 'but', 'wouldn', 'were', 'no', 'an', 'are', 'his', 'and', 'other', 'am', 'be', 'if'}\n"
     ]
    }
   ],
   "source": [
    "print(stopwords)"
   ]
  },
  {
   "cell_type": "code",
   "execution_count": 39,
   "metadata": {},
   "outputs": [
    {
     "name": "stdout",
     "output_type": "stream",
     "text": [
      "Orginal Text Sample:\n",
      "\n",
      "             I had an interesting conversation with my Dad this morning.  We were talking about wher\n",
      "\n",
      "\n",
      "Cleaned Text Sample:\n",
      "interesting conversation dad morning talking koreans put money invariably lot real estate cash cash \n"
     ]
    }
   ],
   "source": [
    "print(\"Orginal Text Sample:\\n\")\n",
    "print(df['text'].values[1][:100]+'\\n\\n')\n",
    "\n",
    "print(\"Cleaned Text Sample:\")\n",
    "print(df['cleaned_text'].values[1][:100])"
   ]
  },
  {
   "cell_type": "code",
   "execution_count": 40,
   "metadata": {},
   "outputs": [],
   "source": [
    "data=df[['topic','cleaned_text']]"
   ]
  },
  {
   "cell_type": "code",
   "execution_count": 41,
   "metadata": {},
   "outputs": [],
   "source": [
    "data.to_csv('data.csv')"
   ]
  },
  {
   "cell_type": "code",
   "execution_count": null,
   "metadata": {},
   "outputs": [],
   "source": []
  }
 ],
 "metadata": {
  "kernelspec": {
   "display_name": "Python 3",
   "language": "python",
   "name": "python3"
  },
  "language_info": {
   "codemirror_mode": {
    "name": "ipython",
    "version": 3
   },
   "file_extension": ".py",
   "mimetype": "text/x-python",
   "name": "python",
   "nbconvert_exporter": "python",
   "pygments_lexer": "ipython3",
   "version": "3.7.3"
  }
 },
 "nbformat": 4,
 "nbformat_minor": 2
}
